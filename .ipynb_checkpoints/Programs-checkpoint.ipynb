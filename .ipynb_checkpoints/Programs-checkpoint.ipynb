{
 "cells": [
  {
   "cell_type": "code",
   "execution_count": 3,
   "id": "8c5f0148",
   "metadata": {},
   "outputs": [
    {
     "name": "stdout",
     "output_type": "stream",
     "text": [
      "Total Wood Log :  25\n"
     ]
    }
   ],
   "source": [
    "import cv2\n",
    "import numpy as np\n",
    "import warnings\n",
    "warnings.filterwarnings(\"ignore\")\n",
    "def detect_circle(img):\n",
    "    crop = img[50:350, 310:660]\n",
    "    gray = cv2.cvtColor(crop, cv2.COLOR_BGR2GRAY)\n",
    "    blur_image = cv2.blur(gray,(4,5))\n",
    "    detecting_cirlcles = cv2.HoughCircles(blur_image,cv2.HOUGH_GRADIENT,1,30,param1 = 30, param2 = 30, minRadius = 1, maxRadius = 46)\n",
    "    count = 0\n",
    "    if detecting_cirlcles is not None :\n",
    "        detecting_circles = np.uint16(np.around(detecting_cirlcles))\n",
    "        for i in detecting_cirlcles[0,:]:\n",
    "            a,b,r=i[0],i[1],i[2]\n",
    "            cv2.circle(crop,(int(a),int(b)),int(r),(0,255,0),2)\n",
    "            count = count + 1\n",
    "    return count, img\n",
    "img = cv2.imread('OpenCV_Assignment_Image.png',cv2.IMREAD_COLOR)\n",
    "count,img = detect_circle(img)\n",
    "print(\"Total Wood Log : \",count)\n",
    "cv2.imwrite('Result.png',img)\n",
    "cv2.imshow('image',img)\n",
    "cv2.waitKey(0)\n",
    "cv2.destroyAllWindows()"
   ]
  },
  {
   "cell_type": "code",
   "execution_count": null,
   "id": "462e178d",
   "metadata": {},
   "outputs": [],
   "source": []
  }
 ],
 "metadata": {
  "kernelspec": {
   "display_name": "Python 3",
   "language": "python",
   "name": "python3"
  },
  "language_info": {
   "codemirror_mode": {
    "name": "ipython",
    "version": 3
   },
   "file_extension": ".py",
   "mimetype": "text/x-python",
   "name": "python",
   "nbconvert_exporter": "python",
   "pygments_lexer": "ipython3",
   "version": "3.8.8"
  }
 },
 "nbformat": 4,
 "nbformat_minor": 5
}
